{
 "cells": [
  {
   "cell_type": "markdown",
   "metadata": {},
   "source": [
    "# testing pdf file reading module to know what is the best one\n",
    "[refer]\n",
    "1. https://www.delftstack.com/ko/howto/python/read-pdf-in-python/\n",
    "2. https://akaiuun12.github.io/python/2020/11/29/PDF.html\n",
    "\n",
    "## first trial / pypdf2"
   ]
  },
  {
   "cell_type": "code",
   "execution_count": 4,
   "metadata": {},
   "outputs": [
    {
     "data": {
      "text/plain": [
       "<PyPDF2._reader.PdfFileReader at 0x7f41205acb20>"
      ]
     },
     "execution_count": 4,
     "metadata": {},
     "output_type": "execute_result"
    }
   ],
   "source": [
    "import PyPDF2 as pp2\n",
    "\n",
    "sample = \"test_pdf_file/CDS.pdf\"\n",
    "\n",
    "pdf = pp2.PdfFileReader(sample)\n",
    "pdf"
   ]
  },
  {
   "cell_type": "code",
   "execution_count": 9,
   "metadata": {},
   "outputs": [
    {
     "name": "stdout",
     "output_type": "stream",
     "text": [
      "Controlledreleasedrugdeliverysystems\n",
      "Controlledreleasedrugdeliveryproductsaredesignedtorelease\n",
      "theactivecontentinapredictablepattern\n",
      "invivo\n",
      "overan\n",
      "extendedtimeperiodalbeitfor some,fasterreleaseisdesirable.\n",
      "\n",
      "Thegeneraldesign objective ofacontrolledreleasesystemisto\n",
      "fabricate adevicecapableof constant zero-orderdrugrelease\n",
      "overa prolongedtimeperiod.Besidesthetherapeuticadvan-\n",
      "\n",
      "tagesfromlessfluctuationindrugbloodlevels,reduceddosing\n",
      "\n",
      "frequencyisagreatbenefitto patients.Thus,moreandmoreoral\n",
      "\n",
      "productsarebeingformulatedandmarketedascontrolledrelease\n",
      "\n",
      "productsasthe technologiesavailableforfabricatingsuchprod-\n",
      "\n",
      "uctshave maturedconsiderablywheremanyvendorsaremarket-\n",
      "\n",
      "ingexcipientsforcontrolledrelease purposes.The knowhow\n",
      "\n",
      "todevelop controlledreleaseoralproductsisrelativelywell-\n",
      "\n",
      "established.Themainmechanismstocontroldrugreleaseinclude\n",
      "\n",
      "complexation,matrixembedmentandcoatedreservoirsystems.\n",
      "\n",
      "Complexationmayinvolveionexchangeresinsorotheradsorp-\n",
      "\n",
      "tionagents.Theuseoflongchainpolymersorwaxylipidsto\n",
      "\n",
      "embeddrugsin isapopularoptiontodesign matrix-basedcon-\n",
      "\n",
      "trolledreleaseproductsandisoftenpresentedaspartof the\n",
      "\n",
      "multi-layeredtabletsortablet-in-tabletdesigns.Coatedreservoir\n",
      "\n",
      "systemsaremorecommonlyusedinmulti-particulatedosage\n",
      "\n",
      "formswherediffusioncontrollingmembranesareusedto sealthe\n",
      "\n",
      "drugreservoir,controllingthedrugrelease rate.Insomecases,\n",
      "\n",
      "osmotic pump devicemaybecreatedbyapreciselypunctured\n",
      "\n",
      "semi-permeablemembranecoatingwhichallowswateringression\n",
      "\n",
      "byosmosisandthebuild-upofosmoticpressurewithincausesa\n",
      "\n",
      "zero-orderdischargevia thelaser-drilledholeorholes.Multi-par-\n",
      "\n",
      "ticulatedosageformsareoftenmarketedaspelletsincapsules\n",
      "\n",
      "wherethepellets arecoatedtoconferdifferent releaseprofiles.\n",
      "\n",
      "Nowadays,thereisagradualshiftforsuchproductstobe\n",
      "\n",
      "designedaspellets-in-tabletinsteadoffillingintocapsule,by\n",
      "\n",
      "compactingthepelletswithcushioningexcipients.Thereisalso\n",
      "\n",
      "muchinteresttoreplacepelletswithmini-tablets whichcanbe\n",
      "\n",
      "manufacturedmore economically.Prolongation ofgastricdelivery\n",
      "\n",
      "ordelayin gastrointestinaltransitisattemptedbythedesign of\n",
      "\n",
      "drug-containingflotationor muco-adhesivedevices.\n",
      "Controlledreleaseproductsarealsopopularfordrugdelivery\n",
      "tobodyorifices, inparticular,ocularproductswhere require-\n",
      "\n",
      "mentsfordeliverytothedifferentpartsoftheeyesmaydiffer.\n",
      "\n",
      "However,the directionisoftentoenhance absorptionusing\n",
      "nanoformulations.Prolongedocularretentionandreleasemaybe\n",
      "mediatedby\n",
      "insitu\n",
      "gels,implantsornanocarrier systems.Thus,\n",
      "theideal formulationshouldhave highprecornealresidencetime\n",
      "\n",
      "withlittle non-specificdrugtissueaccumulationanddeliver\n",
      "therapeutic druglevelstothe ocularsurfaceorintoanteriorand\n",
      "posterioroculartissues,potentiallyabletoreplacetheinvasive\n",
      "\n",
      "drugadministrationbyinjections.\n",
      "Parenteraldrugdeliveryisoftenassociatedwithrapiddrug\n",
      "absorptionbut itwouldbeadvantageoustoachievethesystemic\n",
      "\n",
      "druglevelswithinthetherapeuticallyeffectivedrugconcentration\n",
      "over amoresustainedperiod,andreducethefrequencyof injec-\n",
      "tions.Thiscanbeofparticularimportancefordrugswithnarrow\n",
      "\n",
      "therapeuticindexorpoorbioavailability.Thedevelopmentand\n",
      "formulationofparenteral controlledreleasesystemsaslong-acting\n",
      "injectablepreparationsrequirespecial attention. Depotdosage\n",
      "\n",
      "formsbasedonpolylacticacidandco-glycolic acidhave good\n",
      "in\n",
      "vivo\n",
      "biodegradability.Often,detailsof\n",
      "invivo\n",
      "releaseanddegrad-\n",
      "ationmechanismsshould beclearlyunderstood.Thereisalso\n",
      "muchinterestinotherchemosynthetic biodegradableandnatural\n",
      "\n",
      "polymersforthe fabricationofinjectablemicrospheresbutmuch\n",
      "moreintensiveresearchwillberequiredtoadvancethe method\n",
      "offormulation andavailabilityofnovel polymersforthewider\n",
      "\n",
      "commercialsuccessofparenteralcontrolledreleaseproducts.\n",
      "Implantabledrugdeliverysystemscanprovidelong-termtherapy\n",
      "especiallyforthemanagementofchronicconditionsorhormonal\n",
      "\n",
      "treatments.Insomecases,prolongeddrugdeliverymaybevia\n",
      "devicessuchasintrauterinedevices,infusionpumpsortransder-\n",
      "malpatches.\n",
      "Thelistmaybe inexhaustiveasthesearchcontinues especially\n",
      "forbiotechnologyproducts.Manycontrolledreleasesystemsare\n",
      "already availableforthedeliveryof mostessentialdrugsthat\n",
      "requireitalbeitinnovativeimprovementsarealwaysbeing\n",
      "\n",
      "sought.\n",
      "PaulW.S.Heng\n",
      "GEA-NUSPharmaceuticalProcessingResearchLaboratory,\n",
      "DepartmentofPharmacy,National UniversityofSingapore\n",
      "paulheng@nus.edu.sg\n",
      "#\n",
      "2018InformaUKLimited,tradingas Taylor&FrancisGroup\n",
      "PHARMACEUTICALDEVELOPMENTANDTECHNOLOGY\n",
      "2018,VOL.23,NO.9,833\n",
      "\n",
      "https://doi.org/10.1080/10837450.2017.1534376\n",
      "\n"
     ]
    }
   ],
   "source": [
    "second_page = pdf.getPage(1)\n",
    "print(second_page.extractText())"
   ]
  },
  {
   "cell_type": "markdown",
   "metadata": {},
   "source": [
    "## second trial / pdfplumber\n",
    "- 영어논문 위주로 진행"
   ]
  },
  {
   "cell_type": "code",
   "execution_count": 12,
   "metadata": {},
   "outputs": [
    {
     "data": {
      "text/plain": [
       "'ICT 융합 편집위원 : 이용태(ETRI)\\n인공지능이 초래한 의료의 혁명적 변화와 방향성\\n이  언\\n가천대학교 의과대학 신경외과 교수\\n가천대길병원 인공지능병원 추진단장\\n요 약 처음에는 패턴인식에 사용되는 인공지능을 중심으로 영상의학\\n과 피부과 안과 심장내과 등을 중심으로 발전하였다. 최근에는 \\n대부분의 전문분야에서 폭넓게 사용한다. 인공지능을 의료에 적\\n최근 기술의 진보가 의료계에 혁명적 변화를 초래하고 있다. \\n용하려면 숙련된 의료인력과 체계적으로 구성된 대규모 데이터 \\n이러한 변화는 의료를 넘어 우리 생활에 큰 영향을 미치고 있다. \\n세트에 대한 접근이 필요하므로 대부분의 인공지능의 의료적용\\n인공지능과 초고속통신기술, 코로나19감염증 등으로 인해 의료\\n은 자연스럽게 선진국을 중심으로 발전해왔다. 그러나 인공지\\n계가 어떠한 변화를 겪고 있는지, 사람들의 건강과 의료에 접근\\n능의 의료 적용은 선진국만 필요한 것은 아니다. 최근 의료계에\\n방식은 어떻게 달라지고있는지 살펴보는 일은 앞으로 인공지능\\n서는 의료를 인권차원에서 접근해야 한다는 움직임이 활발하다. \\n의 의료적용 기술이 어떠한 방향으로 발전해 갈 것인가를 파악\\n하는데 매우 중요하다. 기술의 발전은 개인과 사회의 필요에 기 의료접근권의 불평등은 이미 세계적인 이슈가 되었다. 인간은 \\n반을 두고 있다. 이러한 현실인식을 바탕으로 확실한 방향성과  누구나 질 좋은 의료혜택을 받기 원한다. 특히 비교적 최근에 경\\n함께 인공지능 기술을 발전시켜 나가지 않으면 인공지능 선진국 제발전을 이루어 국민소득이 향상된 국가는 양질의 의료에 대한 \\n이 되는 일은 불가능할 것이다. 아울러 기술발전으로부터 소외 수요가 폭발적으로 증가하고 있다. 이러한 상황을 가능한한 빠\\n된 국가나 사람에게도 최소한의 필수 의료는 받을 수 있도록 하 른 시간 안에 해결할 방법을 찾아야한다.\\n는 일도 소홀히 해서는 안된다. 의료시스템의 지속가능성은 심 시급한 이슈를 열거하면 다음과 같다.\\n각한 도전에 직면해있다. 올바른 방향성을 전제로한 기술의 발 1) 의료비용의 급격한 상승과 의료시스템의 지속가능성\\n전은 이러한 위기를 극복하게 하는 중요한 열쇠이다. 2) 의  료불평등 해소 (글로벌헬스이니셔티브 낙후된 지역을 위한 \\n인공지능 기술의 적용)\\n3) 새로운 의료유통시스템의 등장과 병원의 변화\\nⅠ. 서 론 4) 현재 적용 중이거나 향후 크게 이용될 기술\\n상기 이슈들을 중심으로 살펴보고자 한다.\\n의료에 혁명적인 변화를 일으키고 있는 기술은 헤아릴 수 없이 \\n많다. 그 중에서도 영향력이 큰 것을 내세우자면 인공지능기술, \\nⅡ. 본 론\\n5G 등 초고속 통신기술, 빅데이터 관련 기술이다. 이 기술 들은 \\n무수한 파생기술들과 서로 긴밀하게 연계되어 발전하고 있다. \\n2016년 우리사회에 느닷없이 나타나 인공지능이라는 화두를 던\\n1. 의료비용의 급격한 상승과 의료시스템의 지속가능성\\n진 이세돌 9단과 알파고의 대국이 있은 후 약 6개월 뒤 IBM의 \\n왓슨포온콜로지가 가천대길병원을 필두로 의료계에 들어왔다.  의료비용을 줄이려면 의료시스템의 혁명적 개선이 필요한데 \\n도입 당시부터 많은 논란과 개념적 혼란이 있었지만 4년이 흐른  이는 매우 어려운 과제이다.\\n지금 불필요하고 소모적인 논쟁은 많이 정리되었다. 지금 시점 현재의 의료시스템은 fee for service를 기반으로 구축되었\\n에서 인공지능이라는 기술의 진보가 의료에 미치는 영향은 무엇 다. 진료한 양에 근거하여 수가가 지불되는 구조에서는 자연스\\n이고 앞으로 의료는 인공지능을 기반으로 어떠한 변화가 일어날  럽게 진료의 량이 증가할 수밖에 없다. 현재시스템은 대부분 치\\n것인가 짚어 보고자 한다. 료 결과와는 큰 관련없이 진료에 투입된 서비스의 양에 대해 진\\n의학 분야의 인공지능 응용은 최근 몇 년 동안 크게 증가했다.  료비를 지불한다. 향후 진료결과를 객관적으로 공정하게 평가\\n26 | 정보와 통신\\nwww.dbpia.co.kr'"
      ]
     },
     "execution_count": 12,
     "metadata": {},
     "output_type": "execute_result"
    }
   ],
   "source": [
    "import pdfplumber\n",
    "\n",
    "sample = \"test_pdf_file/Ai_medical.pdf\"\n",
    "\n",
    "pdf = pdfplumber.open(sample)\n",
    "text = pdf.pages[0].extract_text()\n",
    "text"
   ]
  },
  {
   "cell_type": "code",
   "execution_count": 13,
   "metadata": {},
   "outputs": [
    {
     "data": {
      "text/plain": [
       "'주제 | 인공지능이 초래한 의료의 혁명적 변화와 방향성\\n하여 진료비를 지불하려면 역시 인공지능이 동원되어야 할 것 필요하다. 고난이도 수술을 하는 선진국에 필요한 로봇보다. 간\\n이다. 그렇지 않으면 진료의 질 평가 결과에 대한 분쟁이 끊이지  단한 창상봉합이나 농양제거와 소독을 하는 상대적으로 단순한 \\n않을 것이다.  또한 지금의 의료서비스는 유통과정에서 발생하 로봇이 먼저 개발 되어야한다. 인공지능 진료도 이러한 소외지\\n는 비용이 과다하다. 이러한 비용은 잘 보이지 않지만 실제 진료 역에 일차 진료를 담당하는 방향으로 먼저 진화해야 한다. 영상 \\n의 질과 접근성 개선에 별 도움이 안 되는 중간자(middle man) 판독, 피부과진료, 안과진료, 당뇨 고혈압 등 다양한 분야에서 당\\n에게 지불이 되고 있다. 예를 들어 의사가 개원에 성공하려면 환 장 진료현장에 투입될 수 있는 인공지능 진료 시스템이 시급하\\n자를 많이 치료해 야하고 이를 위해서는 위치가 좋은 곳, 즉 유동 다. 특히 선진국과 비교하여 의료접근권의 격차가 크고 인공지\\n인구가 많은 소위 목이 좋은 곳에서 개원을 해야 한다. 그러한 곳 능이 이러한 격차를 메우기 용이한 분야부터 서둘러 도입되어야 \\n은 당연히 지불해야 할 임대료가 비싸다. 즉 의료비용의 상당부 한다. 질 높은 의료인적자원의 부족위기는 전 세계적으로 확대\\n분이 건물주에게 유입되고 있다. 물론 자본주의 시장경제 시스 되고 있다[1]. \\n템에서 불가피한 점이 있다고 인정해도 과다한 부분은 체계적으 의료인력 부족위기는 원인이 다양하다. \\n로 개선되어야 한다. 의료비용이 의료의 질과 접근성 개선에 쓰 첫째 잘 훈련된 의사의 전세계적 부족,  \\n이기보다 유통비용 등 간접비용에 과도하게 투입되는 일은 막아 잘 훈련된 양질의 의료인력 부족은 결과적으로 치료에 대한 접\\n야 의료시스템이 지속가능 하다.  근성 부족과 의료의 품질 차이를 이미 세계적인 현상으로 만들\\n었다. 전 세계에 약 4 억 명의 사람들이 기본적인 의료조차 접근\\n2.  의료불평등 해소 (글로벌헬스이니셔티브 낙후된 \\n할 수 없다. \\n지역을 위한 인공지능 기술의 적용)\\n둘째 의사들의 노화와 새로운 가치관의 등장\\n현 시대에 의료계의 뜨거운 이슈는 폭발적인 의료비 상승과 의 의사의 1/3은 55세 이상이며 이들은 다음10년에 대부분 은퇴\\n료접근권의 불평등이다. 의료비 상승은 의료비용의 상승과 연 할 것이다. 또한 상대적으로 진료환경이 좋은 선진국조차 일과 \\n결되어 있다. 의료비 상승은 미국 유럽 등 선진국만 겪는 문제가  생활의 균형을 중요시하는 노동관행과 생활패턴의 변화로 신규 \\n아니다. 중진국과 개발도상국 역시 원인은 다르지만 의료비 상 유입되는 젊은 의사들이 과도한 노동시간을 감수하려 하지 않는\\n승으로 인한 나름의 문제를 겪고 있다. 이러한 의료비의 상승은  다. 이러한 변화는 잘 훈련된 의사의부족현상을 더욱 심하게 하\\n나라간 계층 간 심각한 의료불평등을 초래하고 있다. 우리나라 고 있다. 예를 들면 병리학 분야는 젊은 병리학자들의 신규양성\\n의 의료비 상승곡선역시 가파른 상승 곡선을 그리고 있다. 문제 이 부족하여 평균 연령이 나날이 증가하고 있다.<그림 1>\\n는 이러한 의료비의 상승이 실제 의료의 질 상승에 충분히 반영\\n되지 않는데 있다. 의료시스템의 지속가능성을 높이기 위해서는 \\n접근성(Accessibility), 비용(Cost), 의료 질(Quality)의 역동적 \\n관계 속에서 비용대비가치(value for cost)를 향상시켜야 한다. \\n그 동안 이 세 가지를 모두 만족시키기는 방안을 찾아내기 란 매\\n우 어려웠다. 의료의 유통흐름이 너무 복잡하고 여러 이해당사\\n자와 그에 따른 변수가 존재하기 때문이다. 의료 질을 좋게 하자\\n면 비용이 올라가고 비용이 올라가면 접근성은 나빠진다. 비용\\n을 낮추면 접근성은 좋아지나 의료의 질은 떨어진다. 이렇듯 세 \\n그림 1. 병리학자 인력의 수요공급격차가 지속적으로 확대되고 있다.\\n가지를 모두 만족시키기 란 실현 가능성이 매우 낮아 보인다. 그\\n러나 인공지능기술의 발전이 이 어려운 과제에 해결책을 제시해 \\n줄 수 있을 것으로 기대한다. WHO를 중심으로 ‘Health for all’ 셋째 의사들의 업무량 증가로 인한 탈진 \\n을 슬로건으로 내세우며 의료를 인간의 기본권 차원에서 바라보 의료데이터의 폭발적 증가로 인해 의사들이 환자 한사람을 치\\n자는 운동이 전개되고 있다. 인간은 누구나 최소한의 기본적인  료하기위해 의사가 처리해야 할 정보량이 과거와 비교가 불가능\\n의료를 제공받아야 한다는 주장에 이의를 제기할 수 없지만 현 할 정도로 커졌다. 이로 인해 의사들에게 과부하가 걸리고 자연\\n실은 녹녹치 않다. 인류의 약 1/3이 평생 제대로 훈련 받은 의사 스럽게 신규전문가의 양성과 유입 부족으로 이어진다.\\n를 만날 수 없다. 의료비용의 상승이 이러한 현실을 더욱 어렵게  네째 만성 질환에 대한 의사 수요 증가 등이 오늘날 표면적\\n하고 있다. 인공지능진료와 수술로봇은 이러한 소외지역에 먼저  으로 드러난 양질의 의료인력 부족의 원인들이다. 유능한 의\\nAPRIL·2020 | 27\\nwww.dbpia.co.kr'"
      ]
     },
     "execution_count": 13,
     "metadata": {},
     "output_type": "execute_result"
    }
   ],
   "source": [
    "text = pdf.pages[1].extract_text()\n",
    "text"
   ]
  },
  {
   "cell_type": "code",
   "execution_count": 16,
   "metadata": {},
   "outputs": [
    {
     "name": "stdout",
     "output_type": "stream",
     "text": [
      "{'fontname': 'EAFFHE+OpenSans', 'adv': 4.644, 'upright': True, 'x0': 195.72699585, 'y0': 53.635000919999975, 'x1': 200.37099585, 'y1': 62.635000919999975, 'width': 4.6440000000000055, 'height': 9.0, 'size': 9.0, 'object_type': 'char', 'page_number': 1, 'text': 'F', 'stroking_color': None, 'non_stroking_color': 0, 'top': 770.40499908, 'bottom': 779.40499908, 'doctop': 770.40499908}\n",
      "Pharmaceutical Development and Technology\n",
      "ISSN: 1083-7450 (Print) 1097-9867 (Online) Journal homepage: https://www.tandfonline.com/loi/iphd20\n",
      "Controlled release drug delivery systems\n",
      "Paul W. S. Heng\n",
      "To cite this article: Paul W. S. Heng (2018) Controlled release drug delivery\n",
      "systems, Pharmaceutical Development and Technology, 23:9, 833-833, DOI:\n",
      "10.1080/10837450.2018.1534376\n",
      "To link to this article:  https://doi.org/10.1080/10837450.2018.1534376\n",
      "Published online: 30 Oct 2018.\n",
      "Submit your article to this journal \n",
      "Article views: 6519\n",
      "View related articles \n",
      "View Crossmark data\n",
      "Citing articles: 12 View citing articles \n",
      "Full Terms & Conditions of access and use can be found at\n",
      "https://www.tandfonline.com/action/journalInformation?journalCode=iphd20\n"
     ]
    }
   ],
   "source": [
    "sample = \"test_pdf_file/CDS.pdf\"\n",
    "with pdfplumber.open(sample) as pdf:\n",
    "    first_page = pdf.pages[1]\n",
    "    print(first_page.chars[1])\n",
    "    print(first_page.extract_text())"
   ]
  },
  {
   "cell_type": "markdown",
   "metadata": {},
   "source": [
    "- 훨씬 더 높은 성능을 보이는 것을 확인할 수 있었다.\n",
    "\n",
    "> 해당 결과를 바탕으로 pdf에서 text를 추출하는 것은 \"pdfplumber\"로 진행한다. "
   ]
  },
  {
   "cell_type": "markdown",
   "metadata": {},
   "source": []
  }
 ],
 "metadata": {
  "interpreter": {
   "hash": "262528cb3f97e934a596c3c7f4094c83bb7642e26ede9e90fc2fe684b035c276"
  },
  "kernelspec": {
   "display_name": "Python 3.9.12 ('pongpong_unix')",
   "language": "python",
   "name": "python3"
  },
  "language_info": {
   "codemirror_mode": {
    "name": "ipython",
    "version": 3
   },
   "file_extension": ".py",
   "mimetype": "text/x-python",
   "name": "python",
   "nbconvert_exporter": "python",
   "pygments_lexer": "ipython3",
   "version": "3.9.12"
  },
  "orig_nbformat": 4
 },
 "nbformat": 4,
 "nbformat_minor": 2
}
